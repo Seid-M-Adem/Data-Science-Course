Course Description
Python is a general-purpose programming language that is becoming ever more popular for data science. Companies worldwide are using Python to harvest insights from their data and gain a competitive edge. Unlike other Python tutorials, this course focuses on Python specifically for data science. In our Introduction to Python course, you’ll learn about powerful ways to store and manipulate data, and helpful data science tools to begin conducting your own analyses. Start DataCamp’s online Python curriculum now.
1 Python Basics
An introduction to the basic concepts of Python. Learn how to use Python interactively and by using a script. Create your first variables and acquaint yourself with Python's basic data types.
The Python Interface bold text
Hit Run Code to run your first Python code with Datacamp and see the output!
Notice the script.py window; this is where you can type Python code to solve exercises. You can hit Run Code and Submit Answer as often as you want. If you're stuck, you can click Get Hint, and ultimately Get Solution.
You can also use the IPython Shell interactively by typing commands and hitting Enter. Here, your code will not be checked for correctness so it is a great way to experiment.
Experiment in the IPython Shell; type 5 / 8, for example. Add another line of code to script.py, print(7 + 10), to be checked for correctness. Hit Submit Answer to execute the Python script and receive feedback.
[1]
0s
# Example, do not modify!
print(5 / 8)
print(5/8)
# Print the sum of 7 and 1010
print(7+10)
output
0.625
0.625
17
Any comments?
You can also add comments to your Python scripts. Comments are important to make sure that you and others can understand what your code is about and do not run as Python code.
They start with # tag. See the comment in the editor, # Division; now it's your turn to add a comment!
Above the print(7 + 10), add the comment
[2]
0s
# Division
print(5 / 8)

print(7 + 10)
output
0.625
17
Python as a calculator
Python is perfectly suited to do basic calculations. It can do addition, subtraction, multiplication and division.
The code in the script gives some examples.
Now it's your turn to practice!
instructions
Print the sum of 4 + 5. Print the result of subtracting 5 from 5. Print the result of multiplying 3 by 5. Print the result of dividing 10 by 2.
[3]
0s
# Addition, subtraction
print(5 + 5)
print(5 - 5)

# Multiplication, division, modulo, and exponentiation
print(3 * 5)
print(10 / 2)
print(18 % 7)
print(4 ** 2)

# How much is your $100 worth after 7 years?
print(100*1.1**7)
output
10
0
15
5.0
4
16
194.87171000000012
Variable Assignment
In Python, a variable allows you to refer to a value with a name. To create a variable x with a value of 5, you use =, like this example:
x = 5 You can now use the name of this variable, x, instead of the actual value, 5.
Remember, = in Python means assignment, it doesn't test equality!
Instructions
Create a variable savings with the value of 100. Check out this variable by typing print(savings) in the script.
[4]
0s
# Create a variable savingssavings = 100# Print out savingsprint(savings)

output
100
